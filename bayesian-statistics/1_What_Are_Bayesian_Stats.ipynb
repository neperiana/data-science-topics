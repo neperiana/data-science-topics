{
 "cells": [
  {
   "cell_type": "markdown",
   "metadata": {},
   "source": [
    "# What are Bayesian statistics?"
   ]
  },
  {
   "cell_type": "markdown",
   "metadata": {},
   "source": [
    "## Purpose of this notebook"
   ]
  },
  {
   "cell_type": "markdown",
   "metadata": {},
   "source": [
    "![xkcd comic strip](https://imgs.xkcd.com/comics/frequentists_vs_bayesians.png) "
   ]
  },
  {
   "cell_type": "markdown",
   "metadata": {},
   "source": [
    "If you laughed at the comic strip above, you are probably a Bayesian, whether you already know it or not. \n",
    "\n",
    "The aim of this notebook is to introduce the topic of bayesian statistics and how it differs from its rival, frequentist statistics. We will do this with a few examples and without drawing many numbers."
   ]
  },
  {
   "cell_type": "markdown",
   "metadata": {},
   "source": [
    "## Statistical inference"
   ]
  },
  {
   "cell_type": "markdown",
   "metadata": {},
   "source": [
    "> > Statistical inference is the process of drawing conclusions about populations or scientific truths from data. \n",
    "\n",
    "The thing is real world data is messy, sort of noisy. It's almost like listening to an old noisy audio recording. On top of this, it's never easy to study things in isolation and external influences that affect experiments are under constant change. All of this makes drawing any conclusions from observed data a big challenge. \n",
    "\n",
    "So, how do we separate the noise from the recording? This is when statistical inference kicks in. Statitical inference is the framework which we use to test our hypothesis about the real world against observed data. We formalise these hypothesis using probabilistic models instead of deterministic ones, as there's too many interacting parts of any real world event. Nothing occurs in isolation and we simply cannot account for everything. "
   ]
  },
  {
   "cell_type": "markdown",
   "metadata": {},
   "source": [
    "## Bayesian vs Frequentist approaches"
   ]
  },
  {
   "cell_type": "markdown",
   "metadata": {},
   "source": []
  },
  {
   "cell_type": "markdown",
   "metadata": {},
   "source": [
    "## Who was Bayes anyway?"
   ]
  },
  {
   "cell_type": "markdown",
   "metadata": {},
   "source": []
  },
  {
   "cell_type": "markdown",
   "metadata": {},
   "source": [
    "## The Bayes Rule"
   ]
  },
  {
   "cell_type": "markdown",
   "metadata": {},
   "source": []
  },
  {
   "cell_type": "markdown",
   "metadata": {},
   "source": [
    "Summary and references"
   ]
  },
  {
   "cell_type": "markdown",
   "metadata": {},
   "source": []
  }
 ],
 "metadata": {
  "language_info": {
   "codemirror_mode": {
    "name": "ipython",
    "version": 3
   },
   "file_extension": ".py",
   "mimetype": "text/x-python",
   "name": "python",
   "nbconvert_exporter": "python",
   "pygments_lexer": "ipython3",
   "version": 3
  },
  "orig_nbformat": 2,
  "kernelspec": {
   "name": "python_defaultSpec_1596462010840",
   "display_name": "Python 3.8.1 64-bit ('my_env': venv)"
  }
 },
 "nbformat": 4,
 "nbformat_minor": 2
}