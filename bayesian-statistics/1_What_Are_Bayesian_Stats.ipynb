{
 "cells": [
  {
   "cell_type": "markdown",
   "metadata": {},
   "source": [
    "# What are Bayesian statistics?"
   ]
  },
  {
   "cell_type": "markdown",
   "metadata": {},
   "source": [
    "## Purpose of this notebook"
   ]
  },
  {
   "cell_type": "markdown",
   "metadata": {},
   "source": [
    "![xkcd comic strip](https://imgs.xkcd.com/comics/frequentists_vs_bayesians.png) "
   ]
  },
  {
   "cell_type": "markdown",
   "metadata": {},
   "source": [
    "If you laughed at the comic strip above, you are probably a disciple of the Bayesian school of thought, whether you already know it or not. \n",
    "\n",
    "The aim of this notebook is to introduce the topic of bayesian statistics and how it differs from its rival, frequentist statistics. We will do this with a few examples and without drawing many numbers."
   ]
  },
  {
   "cell_type": "markdown",
   "metadata": {},
   "source": [
    "## Bayes and his rule"
   ]
  },
  {
   "cell_type": "markdown",
   "metadata": {},
   "source": [
    "![Thomas Bayes picture](https://upload.wikimedia.org/wikipedia/commons/d/d4/Thomas_Bayes.gif)"
   ]
  },
  {
   "cell_type": "markdown",
   "metadata": {},
   "source": [
    "[Thomas Bayes](https://en.wikipedia.org/wiki/Thomas_Bayes) was a Presbyterian minister around the XVIII century. Having been university educated, Bayes also had insterests outside of the church and he is considered as a philosopher and statistician as well. \n",
    "\n",
    "He was particularly interested in finding a mathematical way to go from effect to cause. To do this he envisioned an experiment, in which he would set a table and turn its back to it so he would not be able to see it. Then, a friend would throw a ball onto the table. Bayes wished to infer the probability distribution of the position, и, of the first ball along the line AB. He started assuming that the ball was equally likely to be at any given point along the AB line. His friend would then throw n further balls and let him know weather they had fallen on the right or the left of the first ball. With this information, he developed a precise formula that would update his distribution of и every time another ball was thrown into the table."
   ]
  },
  {
   "cell_type": "markdown",
   "metadata": {},
   "source": [
    "![Bayes' table](https://ebrary.net/htm/img/9/995/11.png)"
   ]
  },
  {
   "cell_type": "markdown",
   "metadata": {},
   "source": [
    "Bayes was a Fellow of the Royal Society, and he did discuss his ideas with fellow members of the institution, but it seems like he was not that bothered to publish his work. His future paper ‘An essay towards solving a problem in the doctrine of chances’ was unpublished during his lifetime. After his death, the draft paper that contained his work ended up in the hands of a fellow clergyman, philosopher and mathematician, Richard Price. Price was also a Fellow of the Royal Society and he recognised the value of Bayes' paper and finished it, presenting it to the Royal Society for publication. \n",
    "\n",
    "Funnily enough, the modern version of Bayes formula was not part of this paper. It took another mathematician, Simon Laplace, who had worked on inverse probability independently from both Bayes and Price, to define this probability inevrsion as we now know it:\n",
    "\n",
    "\\begin{equation}\n",
    "P(A\\mid B) = \\frac{P(B \\mid A) P(A)}{P(B)}\n",
    "\\end{equation}"
   ]
  },
  {
   "cell_type": "markdown",
   "metadata": {},
   "source": [
    "## Bayesian vs Frequentist approaches to statistical inference"
   ]
  },
  {
   "cell_type": "markdown",
   "metadata": {},
   "source": [
    "> Statistical inference is the process of drawing conclusions about populations or scientific truths from data. \n",
    "\n",
    "The thing is real world data is messy, sort of noisy. It's almost like listening to an old noisy audio recording. On top of this, it's never easy to study things in isolation and external influences that affect experiments are under constant change. All of this makes drawing any conclusions from observed data a big challenge. \n",
    "\n",
    "So, how do we separate the noise from the recording? This is when statistical inference kicks in. Statitical inference is the framework which we use to test our hypothesis about the real world against observed data. We formalise these hypothesis using probabilistic models instead of deterministic ones, as there's too many interacting parts of any real world event. Nothing occurs in isolation and we simply cannot account for everything. \n",
    "\n",
    "A simple example to understand both approaches would be, having a coin in hand, to try to answer the question of: \"Is this coin fair?\""
   ]
  },
  {
   "cell_type": "markdown",
   "metadata": {},
   "source": [
    "So, if we have defined statistical inference as the process of going from effect (observed data) to its cause, what are the differences between bayesian and frequentists approaches? \n",
    "\n",
    "Both frequentists and bayesians start by defining a forward probability model that can generate the data (the effect) from a given set of parameters (the cause). But the method they use to run this model in reverse and find the probability for a cause is different.\n",
    "\n",
    "Frequentists assume that if the probability of generating data as extreme as the observed data (or more) is small then the cause is rejected as improbable. Then the set of all non-rejected causes forms a confidence interval that contains the actual cause (still unknown) with some measure of uncertainty.\n",
    "\n",
    "Bayesians use the Bayes rule to carry out this inversion process. We will see more about \n"
   ]
  },
  {
   "cell_type": "markdown",
   "metadata": {},
   "source": [
    "## Inference using the Bayes rule"
   ]
  },
  {
   "cell_type": "markdown",
   "metadata": {},
   "source": []
  },
  {
   "cell_type": "markdown",
   "metadata": {},
   "source": [
    "## Summary and references"
   ]
  },
  {
   "cell_type": "markdown",
   "metadata": {},
   "source": [
    "[comic explanation]\n",
    "\n",
    "* [Probability and Statistics History](https://ebrary.net/118878/history/probability_statistics_1764_1810)\n",
    "* [Thomas Bayes wikipedia page]()"
   ]
  }
 ],
 "metadata": {
  "language_info": {
   "codemirror_mode": {
    "name": "ipython",
    "version": 3
   },
   "file_extension": ".py",
   "mimetype": "text/x-python",
   "name": "python",
   "nbconvert_exporter": "python",
   "pygments_lexer": "ipython3",
   "version": 3
  },
  "orig_nbformat": 2,
  "kernelspec": {
   "name": "python_defaultSpec_1596462010840",
   "display_name": "Python 3.8.1 64-bit ('my_env': venv)"
  }
 },
 "nbformat": 4,
 "nbformat_minor": 2
}